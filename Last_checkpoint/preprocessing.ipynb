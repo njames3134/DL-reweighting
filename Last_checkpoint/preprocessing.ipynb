{
 "cells": [
  {
   "cell_type": "code",
   "execution_count": 4,
   "metadata": {},
   "outputs": [],
   "source": [
    "import matplotlib.pyplot as plt\n",
    "import numpy as np\n",
    "import os\n",
    "import xml.etree.ElementTree as ET\n",
    "from PIL import Image"
   ]
  },
  {
   "cell_type": "code",
   "execution_count": 8,
   "metadata": {},
   "outputs": [],
   "source": [
    "folder_path = \"./dataset/annotations\"\n",
    "output_folder = \"./dataset/processed\"\n",
    "\n",
    "# Create the output folder if it doesn't exist\n",
    "os.makedirs(output_folder, exist_ok=True)\n",
    "\n",
    "# Iterate over each file in the folder\n",
    "for filename in os.listdir(folder_path):\n",
    "    if filename.endswith(\".xml\"):\n",
    "        file_path = os.path.join(folder_path, filename)\n",
    "        tree = ET.parse(file_path)\n",
    "        root = tree.getroot()\n",
    "        \n",
    "        image_folder = None\n",
    "        image_filename = None\n",
    "        objects = []\n",
    "        \n",
    "        # Find image folder, filename, and objects\n",
    "        for elem in root.iter():\n",
    "            if elem.tag == \"folder\":\n",
    "                image_folder = elem.text\n",
    "            elif elem.tag == \"filename\":\n",
    "                image_filename = elem.text\n",
    "            elif elem.tag == \"object\":\n",
    "                obj = {}\n",
    "                for sub_elem in elem:\n",
    "                    obj[sub_elem.tag] = sub_elem.text\n",
    "                    if sub_elem.tag == \"bndbox\":\n",
    "                        bbox = {}\n",
    "                        for bbox_elem in sub_elem:\n",
    "                            bbox[bbox_elem.tag] = int(bbox_elem.text)\n",
    "                        obj[sub_elem.tag] = bbox\n",
    "                objects.append(obj)\n",
    "        \n",
    "        if image_folder is not None and image_filename is not None:\n",
    "            # Construct full path to the image\n",
    "            image_path = os.path.join('./dataset/', image_folder, image_filename)\n",
    "            # Open the image using PIL\n",
    "            image = Image.open(image_path)\n",
    "            \n",
    "            # Crop and save each object\n",
    "            for obj in objects:\n",
    "                name = obj.get(\"name\")\n",
    "                bndbox = obj.get(\"bndbox\")\n",
    "                xmin, ymin, xmax, ymax = bndbox[\"xmin\"], bndbox[\"ymin\"], bndbox[\"xmax\"], bndbox[\"ymax\"]\n",
    "                cropped_image = image.crop((xmin, ymin, xmax, ymax))\n",
    "                cropped_image = cropped_image.resize((100,100))\n",
    "\n",
    "                # Create a folder with the name if it doesn't exist\n",
    "                output_obj_folder = os.path.join(output_folder, name)\n",
    "                os.makedirs(output_obj_folder, exist_ok=True)\n",
    "                # Save the cropped image\n",
    "                cropped_image.save(os.path.join(output_obj_folder, f\"{image_filename.split('.')[0]}_{name}.png\"))\n"
   ]
  }
 ],
 "metadata": {
  "kernelspec": {
   "display_name": "ECE50024",
   "language": "python",
   "name": "python3"
  },
  "language_info": {
   "codemirror_mode": {
    "name": "ipython",
    "version": 3
   },
   "file_extension": ".py",
   "mimetype": "text/x-python",
   "name": "python",
   "nbconvert_exporter": "python",
   "pygments_lexer": "ipython3",
   "version": "3.11.8"
  }
 },
 "nbformat": 4,
 "nbformat_minor": 2
}
