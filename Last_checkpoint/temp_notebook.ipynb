{
 "cells": [
  {
   "cell_type": "code",
   "execution_count": 1,
   "metadata": {},
   "outputs": [],
   "source": [
    "import torch\n",
    "import torch.nn as nn\n",
    "import torch.optim as optim\n",
    "import torch.autograd\n",
    "import torchvision\n",
    "import matplotlib.pyplot as plt\n",
    "import numpy as np\n",
    "from torchvision import datasets, transforms\n",
    "from torch.utils.data import DataLoader, WeightedRandomSampler\n",
    "from tqdm import tqdm\n",
    "\n",
    "\n",
    "from model import AlexNet, LeNet, JustinNet"
   ]
  },
  {
   "cell_type": "code",
   "execution_count": 2,
   "metadata": {},
   "outputs": [
    {
     "name": "stdout",
     "output_type": "stream",
     "text": [
      "device =  cuda:0\n"
     ]
    }
   ],
   "source": [
    "## Test learning to reweight model\n",
    "# from main import Reweighting\n",
    "\n",
    "\n",
    "# torch.backends.cudnn.enabled = False\n",
    "# torch.manual_seed(1)\n",
    "\n",
    "device = torch.device(\"cuda:0\" if torch.cuda.is_available() else \"cpu\")\n",
    "print(\"device = \", device)\n",
    "\n",
    "class Reweighting():\n",
    "    def __init__(self, network, hyperparameters, criterion, criterion_mean, optimizer, train_loader, valid_loader, test_loader):\n",
    "        self.network = network.requires_grad_(requires_grad=True)\n",
    "        self.hyperparameters = hyperparameters\n",
    "        self.criterion = criterion\n",
    "        self.optimizer = optimizer\n",
    "        self.train_loader = train_loader\n",
    "        self.valid_loader = valid_loader\n",
    "        self.test_loader = test_loader\n",
    "        self.criterion_mean = criterion_mean\n",
    "        self.gradient_network = None\n",
    "    \n",
    "    def paper_train(self):\n",
    "        # X_g = LeNet5()\n",
    "        # print(\"Starting training...\")\n",
    "        X_g, y_g = next(iter(self.valid_loader))\n",
    "        X_g = X_g.to(device)\n",
    "        y_g = y_g.to(device)\n",
    "\n",
    "        y_f_hat = torch.empty(1)\n",
    "        y_f_hat = y_f_hat.to(device)\n",
    "\n",
    "        theta_tp1 = self.network.state_dict()\n",
    "        for epoch in range(self.hyperparameters['n_epochs']):\n",
    "            self.network.train()\n",
    "\n",
    "            self.gradient_network = AlexNet()\n",
    "            # self.gradient_network = LeNet()\n",
    "            self.gradient_network.load_state_dict(theta_tp1)\n",
    "\n",
    "            # get batch of data from train_loader\n",
    "            X_f, y_f = next(iter(self.train_loader))\n",
    "            X_f = X_f.to(device)\n",
    "            y_f = y_f.to(device)\n",
    "\n",
    "            # Line 4\n",
    "            y_f_hat = self.gradient_network(X_f)\n",
    "            \n",
    "            # Line 5\n",
    "            epsilon = torch.zeros(y_f.size(), requires_grad=True)\n",
    "            epsilon = epsilon.to(device)\n",
    "\n",
    "            Costs = self.criterion(y_f_hat, y_f.float())\n",
    "            l_f = torch.sum(torch.mul(Costs, epsilon))\n",
    "\n",
    "            # Line 6\n",
    "            grad_t = torch.autograd.grad(outputs=l_f, inputs=self.gradient_network.params(), create_graph=True)\n",
    "            \n",
    "\n",
    "            # Line 7: manually update the weights of the validation network\n",
    "            lr = self.hyperparameters['learning_rate']\n",
    "            self.gradient_network.update_params_SGD_step(lr, grad_t)\n",
    "\n",
    "            # Line 8\n",
    "            # Model has theta_hat\n",
    "            y_g_hat = self.gradient_network(X_g)\n",
    "\n",
    "            # Line 9\n",
    "            l_g = self.criterion_mean(y_g_hat, y_g.float())\n",
    "\n",
    "            # Line 10\n",
    "            grad_epsilon = torch.autograd.grad(l_g, epsilon, only_inputs=True)[0]\n",
    "\n",
    "            # Line 11\n",
    "            w_tilde = torch.clamp(-grad_epsilon, min=0)\n",
    "\n",
    "            if torch.sum(w_tilde) != 0:\n",
    "                w = w_tilde / torch.sum(w_tilde)\n",
    "            else:\n",
    "                w = w_tilde\n",
    "\n",
    "            # Line 12\n",
    "            y_f_hat = self.network(X_f)\n",
    "            Costs = self.criterion(y_f_hat, y_f.float())\n",
    "            l_f_hat = torch.sum(torch.mul(Costs, w))\n",
    "\n",
    "            self.optimizer.zero_grad()\n",
    "\n",
    "            # Line 13\n",
    "            l_f_hat.backward()\n",
    "\n",
    "            # Line 14\n",
    "            self.optimizer.step()\n",
    "            # break\n",
    "\n",
    "            theta_tp1 = self.network.state_dict()\n",
    "\n",
    "            if (epoch % self.hyperparameters['log_interval'] == 0):\n",
    "                curr_accuracy = self.test()\n",
    "                print(\"Epoch \" + str(epoch) + \" accuracy = \", curr_accuracy, \" loss = \", l_f_hat.item())\n",
    "\n",
    "    def train(self):\n",
    "        # Train the network\n",
    "        for epoch in range(self.hyperparameters['n_epochs']):\n",
    "            self.network.train()\n",
    "            for batch_idx, (data, target) in enumerate(self.train_loader):\n",
    "                data = data.to(device)\n",
    "                target = target.to(device)\n",
    "\n",
    "                self.optimizer.zero_grad()\n",
    "                output = self.network(data)\n",
    "                # print(output)\n",
    "                # print(target.float())\n",
    "                loss = self.criterion_mean(output, target.float())\n",
    "                # print(loss)\n",
    "                loss.backward()\n",
    "                self.optimizer.step()\n",
    "                if batch_idx % self.hyperparameters['log_interval'] == 0:\n",
    "                    print('Train Epoch: {} [{}/{} ({:.0f}%)]\\tLoss: {:.6f}'.format(\n",
    "                        epoch, batch_idx * len(data), len(self.train_loader.dataset),\n",
    "                        100. * batch_idx / len(self.train_loader), loss.item()))\n",
    "            \n",
    "            if (epoch % self.hyperparameters['log_interval'] == 0):\n",
    "                curr_accuracy = self.test()\n",
    "                print(\"Epoch \" + str(epoch) + \" accuracy = \", curr_accuracy)\n",
    "\n",
    "\n",
    "    def test(self):\n",
    "        self.network.eval()\n",
    "\n",
    "        acc = np.array([])\n",
    "        for itr,(test_img, test_label) in enumerate(self.test_loader):\n",
    "            prediction = self.network(test_img.to(device)).detach().cpu()\n",
    "            # print(prediction)\n",
    "            prediction = (torch.sigmoid(prediction) > 0.5).int().numpy()\n",
    "            tmp = (prediction == test_label.detach().numpy())\n",
    "            print(prediction)\n",
    "            # print(test_label)\n",
    "            # print(tmp)\n",
    "            # acc.append(tmp)\n",
    "            acc = np.append(acc,tmp)\n",
    "\n",
    "        # print(acc)\n",
    "        accuracy = np.mean(acc)\n",
    "        return np.round(accuracy*100,2)\n"
   ]
  },
  {
   "cell_type": "code",
   "execution_count": 3,
   "metadata": {},
   "outputs": [
    {
     "name": "stdout",
     "output_type": "stream",
     "text": [
      "[0 0 0 0 0 0 0 0 0 0 0 0 0 0 0 0 0 0 0 0 0 0 0 0 0 0 0 0 0 0 0 0 0 0 0 0 0\n",
      " 0 0 0 0 0 0 0 0 0 0 0 0 0 0 0 0 0 0 0 0 0 0 0 0 0 0 0 0 0 0 0 0 0 0 0 0 0\n",
      " 0 0 0 0 0 0 0 0 0 0 0 0 0 0 0 0 0 0 0 0 0 0 0 0 0 0]\n",
      "[0 0 0 0 0 0 0 0 0 0 0 0 0 0 0 0 0 0 0 0 0 0 0 0 0 0 0 0 0 0 0 0 0 0 0 0 0\n",
      " 0 0 0 0 0 0 0 0 0 0 0 0 0 0 0 0 0 0 0 0 0 0 0 0 0 0 0 0 0 0 0 0 0 0 0 0 0\n",
      " 0 0 0 0 0 0 0 0 0 0 0 0 0 0 0 0 0 0 0 0 0 0 0 0 0 0]\n",
      "Starting accuracy =  50.0\n",
      "Train Epoch: 0 [0/6493 (0%)]\tLoss: 0.693147\n",
      "Train Epoch: 0 [10/6493 (0%)]\tLoss: 0.693147\n",
      "Train Epoch: 0 [20/6493 (0%)]\tLoss: 0.693147\n",
      "Train Epoch: 0 [30/6493 (0%)]\tLoss: 0.693147\n",
      "Train Epoch: 0 [40/6493 (1%)]\tLoss: 0.693147\n",
      "Train Epoch: 0 [50/6493 (1%)]\tLoss: 0.693147\n",
      "Train Epoch: 0 [60/6493 (1%)]\tLoss: 0.693147\n",
      "Train Epoch: 0 [70/6493 (1%)]\tLoss: 0.693147\n",
      "Train Epoch: 0 [80/6493 (1%)]\tLoss: 0.693147\n",
      "Train Epoch: 0 [90/6493 (1%)]\tLoss: 0.693147\n",
      "Train Epoch: 0 [100/6493 (2%)]\tLoss: 0.693147\n",
      "Train Epoch: 0 [110/6493 (2%)]\tLoss: 0.693147\n",
      "Train Epoch: 0 [120/6493 (2%)]\tLoss: 0.693147\n",
      "Train Epoch: 0 [130/6493 (2%)]\tLoss: 0.693147\n",
      "Train Epoch: 0 [140/6493 (2%)]\tLoss: 0.693147\n",
      "Train Epoch: 0 [150/6493 (2%)]\tLoss: 0.693147\n",
      "Train Epoch: 0 [160/6493 (2%)]\tLoss: 0.693147\n",
      "Train Epoch: 0 [170/6493 (3%)]\tLoss: 0.693147\n",
      "Train Epoch: 0 [180/6493 (3%)]\tLoss: 0.693147\n",
      "Train Epoch: 0 [190/6493 (3%)]\tLoss: 0.693147\n",
      "Train Epoch: 0 [200/6493 (3%)]\tLoss: 0.693147\n",
      "Train Epoch: 0 [210/6493 (3%)]\tLoss: 0.693147\n",
      "Train Epoch: 0 [220/6493 (3%)]\tLoss: 0.693147\n",
      "Train Epoch: 0 [230/6493 (4%)]\tLoss: 0.693147\n",
      "Train Epoch: 0 [240/6493 (4%)]\tLoss: 0.693147\n",
      "Train Epoch: 0 [250/6493 (4%)]\tLoss: 0.693147\n",
      "Train Epoch: 0 [260/6493 (4%)]\tLoss: 0.693147\n",
      "Train Epoch: 0 [270/6493 (4%)]\tLoss: 0.693147\n",
      "Train Epoch: 0 [280/6493 (4%)]\tLoss: 0.693147\n",
      "Train Epoch: 0 [290/6493 (4%)]\tLoss: 0.693147\n",
      "Train Epoch: 0 [300/6493 (5%)]\tLoss: 0.693147\n",
      "Train Epoch: 0 [310/6493 (5%)]\tLoss: 0.693147\n",
      "Train Epoch: 0 [320/6493 (5%)]\tLoss: 0.693147\n",
      "Train Epoch: 0 [330/6493 (5%)]\tLoss: 0.693147\n",
      "Train Epoch: 0 [340/6493 (5%)]\tLoss: 0.693147\n",
      "Train Epoch: 0 [350/6493 (5%)]\tLoss: 0.693147\n",
      "Train Epoch: 0 [360/6493 (6%)]\tLoss: 0.693147\n",
      "Train Epoch: 0 [370/6493 (6%)]\tLoss: 0.693147\n",
      "Train Epoch: 0 [380/6493 (6%)]\tLoss: 0.693147\n",
      "Train Epoch: 0 [390/6493 (6%)]\tLoss: 0.693147\n",
      "Train Epoch: 0 [400/6493 (6%)]\tLoss: 0.693147\n",
      "Train Epoch: 0 [410/6493 (6%)]\tLoss: 0.693147\n",
      "Train Epoch: 0 [420/6493 (6%)]\tLoss: 0.693147\n",
      "Train Epoch: 0 [430/6493 (7%)]\tLoss: 0.693147\n",
      "Train Epoch: 0 [440/6493 (7%)]\tLoss: 0.693147\n",
      "Train Epoch: 0 [450/6493 (7%)]\tLoss: 0.693147\n",
      "Train Epoch: 0 [460/6493 (7%)]\tLoss: 0.693147\n",
      "Train Epoch: 0 [470/6493 (7%)]\tLoss: 0.693147\n",
      "Train Epoch: 0 [480/6493 (7%)]\tLoss: 0.693147\n",
      "Train Epoch: 0 [490/6493 (8%)]\tLoss: 0.693147\n",
      "Train Epoch: 0 [500/6493 (8%)]\tLoss: 0.693147\n",
      "Train Epoch: 0 [510/6493 (8%)]\tLoss: 0.693147\n",
      "Train Epoch: 0 [520/6493 (8%)]\tLoss: 0.693147\n",
      "Train Epoch: 0 [530/6493 (8%)]\tLoss: 0.693147\n",
      "Train Epoch: 0 [540/6493 (8%)]\tLoss: 0.693147\n",
      "Train Epoch: 0 [550/6493 (8%)]\tLoss: 0.693147\n",
      "Train Epoch: 0 [560/6493 (9%)]\tLoss: 0.693147\n",
      "Train Epoch: 0 [570/6493 (9%)]\tLoss: 0.693147\n",
      "Train Epoch: 0 [580/6493 (9%)]\tLoss: 0.693147\n",
      "Train Epoch: 0 [590/6493 (9%)]\tLoss: 0.693147\n",
      "Train Epoch: 0 [600/6493 (9%)]\tLoss: 0.693147\n",
      "Train Epoch: 0 [610/6493 (9%)]\tLoss: 0.693147\n",
      "Train Epoch: 0 [620/6493 (10%)]\tLoss: 0.693147\n",
      "Train Epoch: 0 [630/6493 (10%)]\tLoss: 0.693147\n",
      "Train Epoch: 0 [640/6493 (10%)]\tLoss: 0.693147\n",
      "Train Epoch: 0 [650/6493 (10%)]\tLoss: 0.693147\n",
      "Train Epoch: 0 [660/6493 (10%)]\tLoss: 0.693147\n",
      "Train Epoch: 0 [670/6493 (10%)]\tLoss: 0.693147\n",
      "Train Epoch: 0 [680/6493 (10%)]\tLoss: 0.693147\n",
      "Train Epoch: 0 [690/6493 (11%)]\tLoss: 0.693147\n",
      "Train Epoch: 0 [700/6493 (11%)]\tLoss: 0.693147\n",
      "Train Epoch: 0 [710/6493 (11%)]\tLoss: 0.693147\n",
      "Train Epoch: 0 [720/6493 (11%)]\tLoss: 0.693147\n",
      "Train Epoch: 0 [730/6493 (11%)]\tLoss: 0.693147\n",
      "Train Epoch: 0 [740/6493 (11%)]\tLoss: 0.693147\n",
      "Train Epoch: 0 [750/6493 (12%)]\tLoss: 0.693147\n",
      "Train Epoch: 0 [760/6493 (12%)]\tLoss: 0.693147\n",
      "Train Epoch: 0 [770/6493 (12%)]\tLoss: 0.693147\n",
      "Train Epoch: 0 [780/6493 (12%)]\tLoss: 0.693147\n",
      "Train Epoch: 0 [790/6493 (12%)]\tLoss: 0.693147\n",
      "Train Epoch: 0 [800/6493 (12%)]\tLoss: 0.693147\n",
      "Train Epoch: 0 [810/6493 (12%)]\tLoss: 0.693147\n",
      "Train Epoch: 0 [820/6493 (13%)]\tLoss: 0.693147\n",
      "Train Epoch: 0 [830/6493 (13%)]\tLoss: 0.693147\n",
      "Train Epoch: 0 [840/6493 (13%)]\tLoss: 0.693147\n",
      "Train Epoch: 0 [850/6493 (13%)]\tLoss: 0.693147\n",
      "Train Epoch: 0 [860/6493 (13%)]\tLoss: 0.693147\n",
      "Train Epoch: 0 [870/6493 (13%)]\tLoss: 0.693147\n",
      "Train Epoch: 0 [880/6493 (14%)]\tLoss: 0.693147\n",
      "Train Epoch: 0 [890/6493 (14%)]\tLoss: 0.693147\n",
      "Train Epoch: 0 [900/6493 (14%)]\tLoss: 0.693147\n",
      "Train Epoch: 0 [910/6493 (14%)]\tLoss: 0.693147\n",
      "Train Epoch: 0 [920/6493 (14%)]\tLoss: 0.693147\n",
      "Train Epoch: 0 [930/6493 (14%)]\tLoss: 0.693147\n",
      "Train Epoch: 0 [940/6493 (14%)]\tLoss: 0.693147\n",
      "Train Epoch: 0 [950/6493 (15%)]\tLoss: 0.693147\n",
      "Train Epoch: 0 [960/6493 (15%)]\tLoss: 0.693147\n",
      "Train Epoch: 0 [970/6493 (15%)]\tLoss: 0.693147\n",
      "Train Epoch: 0 [980/6493 (15%)]\tLoss: 0.693147\n",
      "Train Epoch: 0 [990/6493 (15%)]\tLoss: 0.693147\n",
      "Train Epoch: 0 [1000/6493 (15%)]\tLoss: 0.693147\n",
      "Train Epoch: 0 [1010/6493 (16%)]\tLoss: 0.693147\n",
      "Train Epoch: 0 [1020/6493 (16%)]\tLoss: 0.693147\n",
      "Train Epoch: 0 [1030/6493 (16%)]\tLoss: 0.693147\n",
      "Train Epoch: 0 [1040/6493 (16%)]\tLoss: 0.693147\n",
      "Train Epoch: 0 [1050/6493 (16%)]\tLoss: 0.693147\n",
      "Train Epoch: 0 [1060/6493 (16%)]\tLoss: 0.693147\n",
      "Train Epoch: 0 [1070/6493 (16%)]\tLoss: 0.693147\n",
      "Train Epoch: 0 [1080/6493 (17%)]\tLoss: 0.693147\n",
      "Train Epoch: 0 [1090/6493 (17%)]\tLoss: 0.693147\n",
      "Train Epoch: 0 [1100/6493 (17%)]\tLoss: 0.693147\n",
      "Train Epoch: 0 [1110/6493 (17%)]\tLoss: 0.693147\n",
      "Train Epoch: 0 [1120/6493 (17%)]\tLoss: 0.693147\n",
      "Train Epoch: 0 [1130/6493 (17%)]\tLoss: 0.693147\n",
      "Train Epoch: 0 [1140/6493 (18%)]\tLoss: 0.693147\n",
      "Train Epoch: 0 [1150/6493 (18%)]\tLoss: 0.693147\n",
      "Train Epoch: 0 [1160/6493 (18%)]\tLoss: 0.693147\n",
      "Train Epoch: 0 [1170/6493 (18%)]\tLoss: 0.693147\n",
      "Train Epoch: 0 [1180/6493 (18%)]\tLoss: 0.693147\n",
      "Train Epoch: 0 [1190/6493 (18%)]\tLoss: 0.693147\n",
      "Train Epoch: 0 [1200/6493 (18%)]\tLoss: 0.693147\n",
      "Train Epoch: 0 [1210/6493 (19%)]\tLoss: 0.693147\n",
      "Train Epoch: 0 [1220/6493 (19%)]\tLoss: 0.693147\n",
      "Train Epoch: 0 [1230/6493 (19%)]\tLoss: 0.693147\n",
      "Train Epoch: 0 [1240/6493 (19%)]\tLoss: 0.693147\n",
      "Train Epoch: 0 [1250/6493 (19%)]\tLoss: 0.693147\n",
      "Train Epoch: 0 [1260/6493 (19%)]\tLoss: 0.693147\n",
      "Train Epoch: 0 [1270/6493 (20%)]\tLoss: 0.693147\n",
      "Train Epoch: 0 [1280/6493 (20%)]\tLoss: 0.693147\n",
      "Train Epoch: 0 [1290/6493 (20%)]\tLoss: 0.693147\n",
      "Train Epoch: 0 [1300/6493 (20%)]\tLoss: 0.693147\n",
      "Train Epoch: 0 [1310/6493 (20%)]\tLoss: 0.693147\n",
      "Train Epoch: 0 [1320/6493 (20%)]\tLoss: 0.693147\n",
      "Train Epoch: 0 [1330/6493 (20%)]\tLoss: 0.693147\n",
      "Train Epoch: 0 [1340/6493 (21%)]\tLoss: 0.693147\n",
      "Train Epoch: 0 [1350/6493 (21%)]\tLoss: 0.693147\n",
      "Train Epoch: 0 [1360/6493 (21%)]\tLoss: 0.693147\n",
      "Train Epoch: 0 [1370/6493 (21%)]\tLoss: 0.693147\n",
      "Train Epoch: 0 [1380/6493 (21%)]\tLoss: 0.693147\n",
      "Train Epoch: 0 [1390/6493 (21%)]\tLoss: 0.693147\n",
      "Train Epoch: 0 [1400/6493 (22%)]\tLoss: 0.693147\n",
      "Train Epoch: 0 [1410/6493 (22%)]\tLoss: 0.693147\n",
      "Train Epoch: 0 [1420/6493 (22%)]\tLoss: 0.693147\n",
      "Train Epoch: 0 [1430/6493 (22%)]\tLoss: 0.693147\n",
      "Train Epoch: 0 [1440/6493 (22%)]\tLoss: 0.693147\n",
      "Train Epoch: 0 [1450/6493 (22%)]\tLoss: 0.693147\n",
      "Train Epoch: 0 [1460/6493 (22%)]\tLoss: 0.693147\n",
      "Train Epoch: 0 [1470/6493 (23%)]\tLoss: 0.693147\n",
      "Train Epoch: 0 [1480/6493 (23%)]\tLoss: 0.693147\n",
      "Train Epoch: 0 [1490/6493 (23%)]\tLoss: 0.693147\n",
      "Train Epoch: 0 [1500/6493 (23%)]\tLoss: 0.693147\n",
      "Train Epoch: 0 [1510/6493 (23%)]\tLoss: 0.693147\n",
      "Train Epoch: 0 [1520/6493 (23%)]\tLoss: 0.693147\n",
      "Train Epoch: 0 [1530/6493 (24%)]\tLoss: 0.693147\n",
      "Train Epoch: 0 [1540/6493 (24%)]\tLoss: 0.693147\n",
      "Train Epoch: 0 [1550/6493 (24%)]\tLoss: 0.693147\n",
      "Train Epoch: 0 [1560/6493 (24%)]\tLoss: 0.693147\n",
      "Train Epoch: 0 [1570/6493 (24%)]\tLoss: 0.693147\n",
      "Train Epoch: 0 [1580/6493 (24%)]\tLoss: 0.693147\n",
      "Train Epoch: 0 [1590/6493 (24%)]\tLoss: 0.693147\n",
      "Train Epoch: 0 [1600/6493 (25%)]\tLoss: 0.693147\n",
      "Train Epoch: 0 [1610/6493 (25%)]\tLoss: 0.693147\n",
      "Train Epoch: 0 [1620/6493 (25%)]\tLoss: 0.693147\n",
      "Train Epoch: 0 [1630/6493 (25%)]\tLoss: 0.693147\n",
      "Train Epoch: 0 [1640/6493 (25%)]\tLoss: 0.693147\n",
      "Train Epoch: 0 [1650/6493 (25%)]\tLoss: 0.693147\n",
      "Train Epoch: 0 [1660/6493 (26%)]\tLoss: 0.693147\n",
      "Train Epoch: 0 [1670/6493 (26%)]\tLoss: 0.693147\n",
      "Train Epoch: 0 [1680/6493 (26%)]\tLoss: 0.693147\n",
      "Train Epoch: 0 [1690/6493 (26%)]\tLoss: 0.693147\n",
      "Train Epoch: 0 [1700/6493 (26%)]\tLoss: 0.693147\n",
      "Train Epoch: 0 [1710/6493 (26%)]\tLoss: 0.693147\n",
      "Train Epoch: 0 [1720/6493 (26%)]\tLoss: 0.693147\n",
      "Train Epoch: 0 [1730/6493 (27%)]\tLoss: 0.693147\n",
      "Train Epoch: 0 [1740/6493 (27%)]\tLoss: 0.693147\n",
      "Train Epoch: 0 [1750/6493 (27%)]\tLoss: 0.693147\n",
      "Train Epoch: 0 [1760/6493 (27%)]\tLoss: 0.693147\n",
      "Train Epoch: 0 [1770/6493 (27%)]\tLoss: 0.693147\n",
      "Train Epoch: 0 [1780/6493 (27%)]\tLoss: 0.693147\n",
      "Train Epoch: 0 [1790/6493 (28%)]\tLoss: 0.693147\n",
      "Train Epoch: 0 [1800/6493 (28%)]\tLoss: 0.693147\n",
      "Train Epoch: 0 [1810/6493 (28%)]\tLoss: 0.693147\n",
      "Train Epoch: 0 [1820/6493 (28%)]\tLoss: 0.693147\n",
      "Train Epoch: 0 [1830/6493 (28%)]\tLoss: 0.693147\n",
      "Train Epoch: 0 [1840/6493 (28%)]\tLoss: 0.693147\n",
      "Train Epoch: 0 [1850/6493 (28%)]\tLoss: 0.693147\n",
      "Train Epoch: 0 [1860/6493 (29%)]\tLoss: 0.693147\n",
      "Train Epoch: 0 [1870/6493 (29%)]\tLoss: 0.693147\n",
      "Train Epoch: 0 [1880/6493 (29%)]\tLoss: 0.693147\n",
      "Train Epoch: 0 [1890/6493 (29%)]\tLoss: 0.693147\n",
      "Train Epoch: 0 [1900/6493 (29%)]\tLoss: 0.693147\n",
      "Train Epoch: 0 [1910/6493 (29%)]\tLoss: 0.693147\n",
      "Train Epoch: 0 [1920/6493 (30%)]\tLoss: 0.693147\n",
      "Train Epoch: 0 [1930/6493 (30%)]\tLoss: 0.693147\n",
      "Train Epoch: 0 [1940/6493 (30%)]\tLoss: 0.693147\n",
      "Train Epoch: 0 [1950/6493 (30%)]\tLoss: 0.693147\n",
      "Train Epoch: 0 [1960/6493 (30%)]\tLoss: 0.693147\n",
      "Train Epoch: 0 [1970/6493 (30%)]\tLoss: 0.693147\n",
      "Train Epoch: 0 [1980/6493 (30%)]\tLoss: 0.693147\n",
      "Train Epoch: 0 [1990/6493 (31%)]\tLoss: 0.693147\n",
      "Train Epoch: 0 [2000/6493 (31%)]\tLoss: 0.693147\n",
      "Train Epoch: 0 [2010/6493 (31%)]\tLoss: 0.693147\n",
      "Train Epoch: 0 [2020/6493 (31%)]\tLoss: 0.693147\n",
      "Train Epoch: 0 [2030/6493 (31%)]\tLoss: 0.693147\n",
      "Train Epoch: 0 [2040/6493 (31%)]\tLoss: 0.693147\n",
      "Train Epoch: 0 [2050/6493 (32%)]\tLoss: 0.693147\n",
      "Train Epoch: 0 [2060/6493 (32%)]\tLoss: 0.693147\n",
      "Train Epoch: 0 [2070/6493 (32%)]\tLoss: 0.693147\n",
      "Train Epoch: 0 [2080/6493 (32%)]\tLoss: 0.693147\n",
      "Train Epoch: 0 [2090/6493 (32%)]\tLoss: 0.693147\n",
      "Train Epoch: 0 [2100/6493 (32%)]\tLoss: 0.693147\n",
      "Train Epoch: 0 [2110/6493 (32%)]\tLoss: 0.693147\n",
      "Train Epoch: 0 [2120/6493 (33%)]\tLoss: 0.693147\n",
      "Train Epoch: 0 [2130/6493 (33%)]\tLoss: 0.693147\n",
      "Train Epoch: 0 [2140/6493 (33%)]\tLoss: 0.693147\n",
      "Train Epoch: 0 [2150/6493 (33%)]\tLoss: 0.693147\n",
      "Train Epoch: 0 [2160/6493 (33%)]\tLoss: 0.693147\n",
      "Train Epoch: 0 [2170/6493 (33%)]\tLoss: 0.693147\n",
      "Train Epoch: 0 [2180/6493 (34%)]\tLoss: 0.693147\n",
      "Train Epoch: 0 [2190/6493 (34%)]\tLoss: 0.693147\n",
      "Train Epoch: 0 [2200/6493 (34%)]\tLoss: 0.693147\n",
      "Train Epoch: 0 [2210/6493 (34%)]\tLoss: 0.693147\n",
      "Train Epoch: 0 [2220/6493 (34%)]\tLoss: 0.693147\n",
      "Train Epoch: 0 [2230/6493 (34%)]\tLoss: 0.693147\n",
      "Train Epoch: 0 [2240/6493 (34%)]\tLoss: 0.693147\n",
      "Train Epoch: 0 [2250/6493 (35%)]\tLoss: 0.693147\n",
      "Train Epoch: 0 [2260/6493 (35%)]\tLoss: 0.693147\n",
      "Train Epoch: 0 [2270/6493 (35%)]\tLoss: 0.693147\n",
      "Train Epoch: 0 [2280/6493 (35%)]\tLoss: 0.693147\n",
      "Train Epoch: 0 [2290/6493 (35%)]\tLoss: 0.693147\n",
      "Train Epoch: 0 [2300/6493 (35%)]\tLoss: 0.693147\n",
      "Train Epoch: 0 [2310/6493 (36%)]\tLoss: 0.693147\n",
      "Train Epoch: 0 [2320/6493 (36%)]\tLoss: 0.693147\n",
      "Train Epoch: 0 [2330/6493 (36%)]\tLoss: 0.693147\n",
      "Train Epoch: 0 [2340/6493 (36%)]\tLoss: 0.693147\n",
      "Train Epoch: 0 [2350/6493 (36%)]\tLoss: 0.693147\n",
      "Train Epoch: 0 [2360/6493 (36%)]\tLoss: 0.693147\n",
      "Train Epoch: 0 [2370/6493 (36%)]\tLoss: 0.693147\n",
      "Train Epoch: 0 [2380/6493 (37%)]\tLoss: 0.693147\n",
      "Train Epoch: 0 [2390/6493 (37%)]\tLoss: 0.693147\n",
      "Train Epoch: 0 [2400/6493 (37%)]\tLoss: 0.693147\n",
      "Train Epoch: 0 [2410/6493 (37%)]\tLoss: 0.693147\n",
      "Train Epoch: 0 [2420/6493 (37%)]\tLoss: 0.693147\n",
      "Train Epoch: 0 [2430/6493 (37%)]\tLoss: 0.693147\n",
      "Train Epoch: 0 [2440/6493 (38%)]\tLoss: 0.693147\n",
      "Train Epoch: 0 [2450/6493 (38%)]\tLoss: 0.693147\n",
      "Train Epoch: 0 [2460/6493 (38%)]\tLoss: 0.693147\n",
      "Train Epoch: 0 [2470/6493 (38%)]\tLoss: 0.693147\n",
      "Train Epoch: 0 [2480/6493 (38%)]\tLoss: 0.693147\n",
      "Train Epoch: 0 [2490/6493 (38%)]\tLoss: 0.693147\n",
      "Train Epoch: 0 [2500/6493 (38%)]\tLoss: 0.693147\n",
      "Train Epoch: 0 [2510/6493 (39%)]\tLoss: 0.693147\n",
      "Train Epoch: 0 [2520/6493 (39%)]\tLoss: 0.693147\n",
      "Train Epoch: 0 [2530/6493 (39%)]\tLoss: 0.693147\n",
      "Train Epoch: 0 [2540/6493 (39%)]\tLoss: 0.693147\n",
      "Train Epoch: 0 [2550/6493 (39%)]\tLoss: 0.693147\n",
      "Train Epoch: 0 [2560/6493 (39%)]\tLoss: 0.693147\n",
      "Train Epoch: 0 [2570/6493 (40%)]\tLoss: 0.693147\n",
      "Train Epoch: 0 [2580/6493 (40%)]\tLoss: 0.693147\n",
      "Train Epoch: 0 [2590/6493 (40%)]\tLoss: 0.693147\n",
      "Train Epoch: 0 [2600/6493 (40%)]\tLoss: 0.693147\n",
      "Train Epoch: 0 [2610/6493 (40%)]\tLoss: 0.693147\n",
      "Train Epoch: 0 [2620/6493 (40%)]\tLoss: 0.693147\n",
      "Train Epoch: 0 [2630/6493 (40%)]\tLoss: 0.693147\n",
      "Train Epoch: 0 [2640/6493 (41%)]\tLoss: 0.693147\n",
      "Train Epoch: 0 [2650/6493 (41%)]\tLoss: 0.693147\n",
      "Train Epoch: 0 [2660/6493 (41%)]\tLoss: 0.693147\n",
      "Train Epoch: 0 [2670/6493 (41%)]\tLoss: 0.693147\n",
      "Train Epoch: 0 [2680/6493 (41%)]\tLoss: 0.693147\n",
      "Train Epoch: 0 [2690/6493 (41%)]\tLoss: 0.693147\n",
      "Train Epoch: 0 [2700/6493 (42%)]\tLoss: 0.693147\n",
      "Train Epoch: 0 [2710/6493 (42%)]\tLoss: 0.693147\n",
      "Train Epoch: 0 [2720/6493 (42%)]\tLoss: 0.693147\n",
      "Train Epoch: 0 [2730/6493 (42%)]\tLoss: 0.693147\n",
      "Train Epoch: 0 [2740/6493 (42%)]\tLoss: 0.693147\n",
      "Train Epoch: 0 [2750/6493 (42%)]\tLoss: 0.693147\n",
      "Train Epoch: 0 [2760/6493 (43%)]\tLoss: 0.693147\n",
      "Train Epoch: 0 [2770/6493 (43%)]\tLoss: 0.693147\n",
      "Train Epoch: 0 [2780/6493 (43%)]\tLoss: 0.693147\n",
      "Train Epoch: 0 [2790/6493 (43%)]\tLoss: 0.693147\n",
      "Train Epoch: 0 [2800/6493 (43%)]\tLoss: 0.693147\n",
      "Train Epoch: 0 [2810/6493 (43%)]\tLoss: 0.693147\n",
      "Train Epoch: 0 [2820/6493 (43%)]\tLoss: 0.693147\n",
      "Train Epoch: 0 [2830/6493 (44%)]\tLoss: 0.693147\n",
      "Train Epoch: 0 [2840/6493 (44%)]\tLoss: 0.693147\n",
      "Train Epoch: 0 [2850/6493 (44%)]\tLoss: 0.693147\n",
      "Train Epoch: 0 [2860/6493 (44%)]\tLoss: 0.693147\n",
      "Train Epoch: 0 [2870/6493 (44%)]\tLoss: 0.693147\n",
      "Train Epoch: 0 [2880/6493 (44%)]\tLoss: 0.693147\n",
      "Train Epoch: 0 [2890/6493 (45%)]\tLoss: 0.693147\n",
      "Train Epoch: 0 [2900/6493 (45%)]\tLoss: 0.693147\n",
      "Train Epoch: 0 [2910/6493 (45%)]\tLoss: 0.693147\n",
      "Train Epoch: 0 [2920/6493 (45%)]\tLoss: 0.693147\n",
      "Train Epoch: 0 [2930/6493 (45%)]\tLoss: 0.693147\n",
      "Train Epoch: 0 [2940/6493 (45%)]\tLoss: 0.693147\n",
      "Train Epoch: 0 [2950/6493 (45%)]\tLoss: 0.693147\n",
      "Train Epoch: 0 [2960/6493 (46%)]\tLoss: 0.693147\n",
      "Train Epoch: 0 [2970/6493 (46%)]\tLoss: 0.693147\n",
      "Train Epoch: 0 [2980/6493 (46%)]\tLoss: 0.693147\n",
      "Train Epoch: 0 [2990/6493 (46%)]\tLoss: 0.693147\n",
      "Train Epoch: 0 [3000/6493 (46%)]\tLoss: 0.693147\n",
      "Train Epoch: 0 [3010/6493 (46%)]\tLoss: 0.693147\n",
      "Train Epoch: 0 [3020/6493 (47%)]\tLoss: 0.693147\n",
      "Train Epoch: 0 [3030/6493 (47%)]\tLoss: 0.693147\n",
      "Train Epoch: 0 [3040/6493 (47%)]\tLoss: 0.693147\n",
      "Train Epoch: 0 [3050/6493 (47%)]\tLoss: 0.693147\n",
      "Train Epoch: 0 [3060/6493 (47%)]\tLoss: 0.693147\n",
      "Train Epoch: 0 [3070/6493 (47%)]\tLoss: 0.693147\n",
      "Train Epoch: 0 [3080/6493 (47%)]\tLoss: 0.693147\n",
      "Train Epoch: 0 [3090/6493 (48%)]\tLoss: 0.693147\n",
      "Train Epoch: 0 [3100/6493 (48%)]\tLoss: 0.693147\n",
      "Train Epoch: 0 [3110/6493 (48%)]\tLoss: 0.693147\n",
      "Train Epoch: 0 [3120/6493 (48%)]\tLoss: 0.693147\n",
      "Train Epoch: 0 [3130/6493 (48%)]\tLoss: 0.693147\n",
      "Train Epoch: 0 [3140/6493 (48%)]\tLoss: 0.693147\n",
      "Train Epoch: 0 [3150/6493 (49%)]\tLoss: 0.693147\n",
      "Train Epoch: 0 [3160/6493 (49%)]\tLoss: 0.693147\n",
      "Train Epoch: 0 [3170/6493 (49%)]\tLoss: 0.693147\n",
      "Train Epoch: 0 [3180/6493 (49%)]\tLoss: 0.693147\n",
      "Train Epoch: 0 [3190/6493 (49%)]\tLoss: 0.693147\n",
      "Train Epoch: 0 [3200/6493 (49%)]\tLoss: 0.693147\n",
      "Train Epoch: 0 [3210/6493 (49%)]\tLoss: 0.693147\n",
      "Train Epoch: 0 [3220/6493 (50%)]\tLoss: 0.693147\n",
      "Train Epoch: 0 [3230/6493 (50%)]\tLoss: 0.693147\n",
      "Train Epoch: 0 [3240/6493 (50%)]\tLoss: 0.693147\n",
      "Train Epoch: 0 [3250/6493 (50%)]\tLoss: 0.693147\n",
      "Train Epoch: 0 [3260/6493 (50%)]\tLoss: 0.693147\n",
      "Train Epoch: 0 [3270/6493 (50%)]\tLoss: 0.693147\n",
      "Train Epoch: 0 [3280/6493 (51%)]\tLoss: 0.693147\n",
      "Train Epoch: 0 [3290/6493 (51%)]\tLoss: 0.693147\n",
      "Train Epoch: 0 [3300/6493 (51%)]\tLoss: 0.693147\n",
      "Train Epoch: 0 [3310/6493 (51%)]\tLoss: 0.693147\n",
      "Train Epoch: 0 [3320/6493 (51%)]\tLoss: 0.693147\n",
      "Train Epoch: 0 [3330/6493 (51%)]\tLoss: 0.693147\n",
      "Train Epoch: 0 [3340/6493 (51%)]\tLoss: 0.693147\n",
      "Train Epoch: 0 [3350/6493 (52%)]\tLoss: 0.693147\n",
      "Train Epoch: 0 [3360/6493 (52%)]\tLoss: 0.693147\n",
      "Train Epoch: 0 [3370/6493 (52%)]\tLoss: 0.693147\n",
      "Train Epoch: 0 [3380/6493 (52%)]\tLoss: 0.693147\n",
      "Train Epoch: 0 [3390/6493 (52%)]\tLoss: 0.693147\n",
      "Train Epoch: 0 [3400/6493 (52%)]\tLoss: 0.693147\n",
      "Train Epoch: 0 [3410/6493 (53%)]\tLoss: 0.693147\n",
      "Train Epoch: 0 [3420/6493 (53%)]\tLoss: 0.693147\n",
      "Train Epoch: 0 [3430/6493 (53%)]\tLoss: 0.693147\n",
      "Train Epoch: 0 [3440/6493 (53%)]\tLoss: 0.693147\n",
      "Train Epoch: 0 [3450/6493 (53%)]\tLoss: 0.693147\n",
      "Train Epoch: 0 [3460/6493 (53%)]\tLoss: 0.693147\n",
      "Train Epoch: 0 [3470/6493 (53%)]\tLoss: 0.693147\n",
      "Train Epoch: 0 [3480/6493 (54%)]\tLoss: 0.693147\n",
      "Train Epoch: 0 [3490/6493 (54%)]\tLoss: 0.693147\n",
      "Train Epoch: 0 [3500/6493 (54%)]\tLoss: 0.693147\n",
      "Train Epoch: 0 [3510/6493 (54%)]\tLoss: 0.693147\n",
      "Train Epoch: 0 [3520/6493 (54%)]\tLoss: 0.693147\n",
      "Train Epoch: 0 [3530/6493 (54%)]\tLoss: 0.693147\n",
      "Train Epoch: 0 [3540/6493 (55%)]\tLoss: 0.693147\n",
      "Train Epoch: 0 [3550/6493 (55%)]\tLoss: 0.693147\n",
      "Train Epoch: 0 [3560/6493 (55%)]\tLoss: 0.693147\n",
      "Train Epoch: 0 [3570/6493 (55%)]\tLoss: 0.693147\n",
      "Train Epoch: 0 [3580/6493 (55%)]\tLoss: 0.693147\n",
      "Train Epoch: 0 [3590/6493 (55%)]\tLoss: 0.693147\n",
      "Train Epoch: 0 [3600/6493 (55%)]\tLoss: 0.693147\n",
      "Train Epoch: 0 [3610/6493 (56%)]\tLoss: 0.693147\n",
      "Train Epoch: 0 [3620/6493 (56%)]\tLoss: 0.693147\n",
      "Train Epoch: 0 [3630/6493 (56%)]\tLoss: 0.693147\n",
      "Train Epoch: 0 [3640/6493 (56%)]\tLoss: 0.693147\n",
      "Train Epoch: 0 [3650/6493 (56%)]\tLoss: 0.693147\n",
      "Train Epoch: 0 [3660/6493 (56%)]\tLoss: 0.693147\n",
      "Train Epoch: 0 [3670/6493 (57%)]\tLoss: 0.693147\n",
      "Train Epoch: 0 [3680/6493 (57%)]\tLoss: 0.693147\n",
      "Train Epoch: 0 [3690/6493 (57%)]\tLoss: 0.693147\n",
      "Train Epoch: 0 [3700/6493 (57%)]\tLoss: 0.693147\n",
      "Train Epoch: 0 [3710/6493 (57%)]\tLoss: 0.693147\n",
      "Train Epoch: 0 [3720/6493 (57%)]\tLoss: 0.693147\n",
      "Train Epoch: 0 [3730/6493 (57%)]\tLoss: 0.693147\n",
      "Train Epoch: 0 [3740/6493 (58%)]\tLoss: 0.693147\n",
      "Train Epoch: 0 [3750/6493 (58%)]\tLoss: 0.693147\n",
      "Train Epoch: 0 [3760/6493 (58%)]\tLoss: 0.693147\n",
      "Train Epoch: 0 [3770/6493 (58%)]\tLoss: 0.693147\n",
      "Train Epoch: 0 [3780/6493 (58%)]\tLoss: 0.693147\n",
      "Train Epoch: 0 [3790/6493 (58%)]\tLoss: 0.693147\n",
      "Train Epoch: 0 [3800/6493 (59%)]\tLoss: 0.693147\n",
      "Train Epoch: 0 [3810/6493 (59%)]\tLoss: 0.693147\n",
      "Train Epoch: 0 [3820/6493 (59%)]\tLoss: 0.693147\n",
      "Train Epoch: 0 [3830/6493 (59%)]\tLoss: 0.693147\n",
      "Train Epoch: 0 [3840/6493 (59%)]\tLoss: 0.693147\n",
      "Train Epoch: 0 [3850/6493 (59%)]\tLoss: 0.693147\n",
      "Train Epoch: 0 [3860/6493 (59%)]\tLoss: 0.693147\n",
      "Train Epoch: 0 [3870/6493 (60%)]\tLoss: 0.693147\n",
      "Train Epoch: 0 [3880/6493 (60%)]\tLoss: 0.693147\n",
      "Train Epoch: 0 [3890/6493 (60%)]\tLoss: 0.693147\n",
      "Train Epoch: 0 [3900/6493 (60%)]\tLoss: 0.693147\n",
      "Train Epoch: 0 [3910/6493 (60%)]\tLoss: 0.693147\n",
      "Train Epoch: 0 [3920/6493 (60%)]\tLoss: 0.693147\n",
      "Train Epoch: 0 [3930/6493 (61%)]\tLoss: 0.693147\n",
      "Train Epoch: 0 [3940/6493 (61%)]\tLoss: 0.693147\n",
      "Train Epoch: 0 [3950/6493 (61%)]\tLoss: 0.693147\n",
      "Train Epoch: 0 [3960/6493 (61%)]\tLoss: 0.693147\n",
      "Train Epoch: 0 [3970/6493 (61%)]\tLoss: 0.693147\n",
      "Train Epoch: 0 [3980/6493 (61%)]\tLoss: 0.693147\n",
      "Train Epoch: 0 [3990/6493 (61%)]\tLoss: 0.693147\n",
      "Train Epoch: 0 [4000/6493 (62%)]\tLoss: 0.693147\n",
      "Train Epoch: 0 [4010/6493 (62%)]\tLoss: 0.693147\n",
      "Train Epoch: 0 [4020/6493 (62%)]\tLoss: 0.693147\n",
      "Train Epoch: 0 [4030/6493 (62%)]\tLoss: 0.693147\n",
      "Train Epoch: 0 [4040/6493 (62%)]\tLoss: 0.693147\n",
      "Train Epoch: 0 [4050/6493 (62%)]\tLoss: 0.693147\n",
      "Train Epoch: 0 [4060/6493 (63%)]\tLoss: 0.693147\n",
      "Train Epoch: 0 [4070/6493 (63%)]\tLoss: 0.693147\n",
      "Train Epoch: 0 [4080/6493 (63%)]\tLoss: 0.693147\n",
      "Train Epoch: 0 [4090/6493 (63%)]\tLoss: 0.693147\n",
      "Train Epoch: 0 [4100/6493 (63%)]\tLoss: 0.693147\n",
      "Train Epoch: 0 [4110/6493 (63%)]\tLoss: 0.693147\n",
      "Train Epoch: 0 [4120/6493 (63%)]\tLoss: 0.693147\n",
      "Train Epoch: 0 [4130/6493 (64%)]\tLoss: 0.693147\n",
      "Train Epoch: 0 [4140/6493 (64%)]\tLoss: 0.693147\n",
      "Train Epoch: 0 [4150/6493 (64%)]\tLoss: 0.693147\n",
      "Train Epoch: 0 [4160/6493 (64%)]\tLoss: 0.693147\n",
      "Train Epoch: 0 [4170/6493 (64%)]\tLoss: 0.693147\n",
      "Train Epoch: 0 [4180/6493 (64%)]\tLoss: 0.693147\n",
      "Train Epoch: 0 [4190/6493 (65%)]\tLoss: 0.693147\n",
      "Train Epoch: 0 [4200/6493 (65%)]\tLoss: 0.693147\n",
      "Train Epoch: 0 [4210/6493 (65%)]\tLoss: 0.693147\n",
      "Train Epoch: 0 [4220/6493 (65%)]\tLoss: 0.693147\n",
      "Train Epoch: 0 [4230/6493 (65%)]\tLoss: 0.693147\n",
      "Train Epoch: 0 [4240/6493 (65%)]\tLoss: 0.693147\n",
      "Train Epoch: 0 [4250/6493 (65%)]\tLoss: 0.693147\n",
      "Train Epoch: 0 [4260/6493 (66%)]\tLoss: 0.693147\n",
      "Train Epoch: 0 [4270/6493 (66%)]\tLoss: 0.693147\n",
      "Train Epoch: 0 [4280/6493 (66%)]\tLoss: 0.693147\n",
      "Train Epoch: 0 [4290/6493 (66%)]\tLoss: 0.693147\n",
      "Train Epoch: 0 [4300/6493 (66%)]\tLoss: 0.693147\n",
      "Train Epoch: 0 [4310/6493 (66%)]\tLoss: 0.693147\n",
      "Train Epoch: 0 [4320/6493 (67%)]\tLoss: 0.693147\n",
      "Train Epoch: 0 [4330/6493 (67%)]\tLoss: 0.693147\n",
      "Train Epoch: 0 [4340/6493 (67%)]\tLoss: 0.693147\n",
      "Train Epoch: 0 [4350/6493 (67%)]\tLoss: 0.693147\n",
      "Train Epoch: 0 [4360/6493 (67%)]\tLoss: 0.693147\n",
      "Train Epoch: 0 [4370/6493 (67%)]\tLoss: 0.693147\n",
      "Train Epoch: 0 [4380/6493 (67%)]\tLoss: 0.693147\n",
      "Train Epoch: 0 [4390/6493 (68%)]\tLoss: 0.693147\n",
      "Train Epoch: 0 [4400/6493 (68%)]\tLoss: 0.693147\n",
      "Train Epoch: 0 [4410/6493 (68%)]\tLoss: 0.693147\n",
      "Train Epoch: 0 [4420/6493 (68%)]\tLoss: 0.693147\n",
      "Train Epoch: 0 [4430/6493 (68%)]\tLoss: 0.693147\n",
      "Train Epoch: 0 [4440/6493 (68%)]\tLoss: 0.693147\n",
      "Train Epoch: 0 [4450/6493 (69%)]\tLoss: 0.693147\n",
      "Train Epoch: 0 [4460/6493 (69%)]\tLoss: 0.693147\n",
      "Train Epoch: 0 [4470/6493 (69%)]\tLoss: 0.693147\n",
      "Train Epoch: 0 [4480/6493 (69%)]\tLoss: 0.693147\n",
      "Train Epoch: 0 [4490/6493 (69%)]\tLoss: 0.693147\n",
      "Train Epoch: 0 [4500/6493 (69%)]\tLoss: 0.693147\n",
      "Train Epoch: 0 [4510/6493 (69%)]\tLoss: 0.693147\n",
      "Train Epoch: 0 [4520/6493 (70%)]\tLoss: 0.693147\n",
      "Train Epoch: 0 [4530/6493 (70%)]\tLoss: 0.693147\n",
      "Train Epoch: 0 [4540/6493 (70%)]\tLoss: 0.693147\n",
      "Train Epoch: 0 [4550/6493 (70%)]\tLoss: 0.693147\n",
      "Train Epoch: 0 [4560/6493 (70%)]\tLoss: 0.693147\n",
      "Train Epoch: 0 [4570/6493 (70%)]\tLoss: 0.693147\n",
      "Train Epoch: 0 [4580/6493 (71%)]\tLoss: 0.693147\n",
      "Train Epoch: 0 [4590/6493 (71%)]\tLoss: 0.693147\n",
      "Train Epoch: 0 [4600/6493 (71%)]\tLoss: 0.693147\n",
      "Train Epoch: 0 [4610/6493 (71%)]\tLoss: 0.693147\n",
      "Train Epoch: 0 [4620/6493 (71%)]\tLoss: 0.693147\n",
      "Train Epoch: 0 [4630/6493 (71%)]\tLoss: 0.693147\n",
      "Train Epoch: 0 [4640/6493 (71%)]\tLoss: 0.693147\n",
      "Train Epoch: 0 [4650/6493 (72%)]\tLoss: 0.693147\n",
      "Train Epoch: 0 [4660/6493 (72%)]\tLoss: 0.693147\n",
      "Train Epoch: 0 [4670/6493 (72%)]\tLoss: 0.693147\n",
      "Train Epoch: 0 [4680/6493 (72%)]\tLoss: 0.693147\n",
      "Train Epoch: 0 [4690/6493 (72%)]\tLoss: 0.693147\n",
      "Train Epoch: 0 [4700/6493 (72%)]\tLoss: 0.693147\n",
      "Train Epoch: 0 [4710/6493 (73%)]\tLoss: 0.693147\n",
      "Train Epoch: 0 [4720/6493 (73%)]\tLoss: 0.693147\n",
      "Train Epoch: 0 [4730/6493 (73%)]\tLoss: 0.693147\n",
      "Train Epoch: 0 [4740/6493 (73%)]\tLoss: 0.693147\n",
      "Train Epoch: 0 [4750/6493 (73%)]\tLoss: 0.693147\n",
      "Train Epoch: 0 [4760/6493 (73%)]\tLoss: 0.693147\n",
      "Train Epoch: 0 [4770/6493 (73%)]\tLoss: 0.693147\n",
      "Train Epoch: 0 [4780/6493 (74%)]\tLoss: 0.693147\n",
      "Train Epoch: 0 [4790/6493 (74%)]\tLoss: 0.693147\n",
      "Train Epoch: 0 [4800/6493 (74%)]\tLoss: 0.693147\n",
      "Train Epoch: 0 [4810/6493 (74%)]\tLoss: 0.693147\n",
      "Train Epoch: 0 [4820/6493 (74%)]\tLoss: 0.693147\n",
      "Train Epoch: 0 [4830/6493 (74%)]\tLoss: 0.693147\n",
      "Train Epoch: 0 [4840/6493 (75%)]\tLoss: 0.693147\n",
      "Train Epoch: 0 [4850/6493 (75%)]\tLoss: 0.693147\n",
      "Train Epoch: 0 [4860/6493 (75%)]\tLoss: 0.693147\n",
      "Train Epoch: 0 [4870/6493 (75%)]\tLoss: 0.693147\n",
      "Train Epoch: 0 [4880/6493 (75%)]\tLoss: 0.693147\n",
      "Train Epoch: 0 [4890/6493 (75%)]\tLoss: 0.693147\n",
      "Train Epoch: 0 [4900/6493 (75%)]\tLoss: 0.693147\n",
      "Train Epoch: 0 [4910/6493 (76%)]\tLoss: 0.693147\n",
      "Train Epoch: 0 [4920/6493 (76%)]\tLoss: 0.693147\n",
      "Train Epoch: 0 [4930/6493 (76%)]\tLoss: 0.693147\n",
      "Train Epoch: 0 [4940/6493 (76%)]\tLoss: 0.693147\n",
      "Train Epoch: 0 [4950/6493 (76%)]\tLoss: 0.693147\n",
      "Train Epoch: 0 [4960/6493 (76%)]\tLoss: 0.693147\n",
      "Train Epoch: 0 [4970/6493 (77%)]\tLoss: 0.693147\n",
      "Train Epoch: 0 [4980/6493 (77%)]\tLoss: 0.693147\n",
      "Train Epoch: 0 [4990/6493 (77%)]\tLoss: 0.693147\n",
      "Train Epoch: 0 [5000/6493 (77%)]\tLoss: 0.693147\n",
      "Train Epoch: 0 [5010/6493 (77%)]\tLoss: 0.693147\n",
      "Train Epoch: 0 [5020/6493 (77%)]\tLoss: 0.693147\n",
      "Train Epoch: 0 [5030/6493 (77%)]\tLoss: 0.693147\n",
      "Train Epoch: 0 [5040/6493 (78%)]\tLoss: 0.693147\n",
      "Train Epoch: 0 [5050/6493 (78%)]\tLoss: 0.693147\n",
      "Train Epoch: 0 [5060/6493 (78%)]\tLoss: 0.693147\n",
      "Train Epoch: 0 [5070/6493 (78%)]\tLoss: 0.693147\n",
      "Train Epoch: 0 [5080/6493 (78%)]\tLoss: 0.693147\n",
      "Train Epoch: 0 [5090/6493 (78%)]\tLoss: 0.693147\n",
      "Train Epoch: 0 [5100/6493 (79%)]\tLoss: 0.693147\n",
      "Train Epoch: 0 [5110/6493 (79%)]\tLoss: 0.693147\n",
      "Train Epoch: 0 [5120/6493 (79%)]\tLoss: 0.693147\n",
      "Train Epoch: 0 [5130/6493 (79%)]\tLoss: 0.693147\n",
      "Train Epoch: 0 [5140/6493 (79%)]\tLoss: 0.693147\n",
      "Train Epoch: 0 [5150/6493 (79%)]\tLoss: 0.693147\n",
      "Train Epoch: 0 [5160/6493 (79%)]\tLoss: 0.693147\n",
      "Train Epoch: 0 [5170/6493 (80%)]\tLoss: 0.693147\n",
      "Train Epoch: 0 [5180/6493 (80%)]\tLoss: 0.693147\n",
      "Train Epoch: 0 [5190/6493 (80%)]\tLoss: 0.693147\n",
      "Train Epoch: 0 [5200/6493 (80%)]\tLoss: 0.693147\n",
      "Train Epoch: 0 [5210/6493 (80%)]\tLoss: 0.693147\n",
      "Train Epoch: 0 [5220/6493 (80%)]\tLoss: 0.693147\n",
      "Train Epoch: 0 [5230/6493 (81%)]\tLoss: 0.693147\n",
      "Train Epoch: 0 [5240/6493 (81%)]\tLoss: 0.693147\n",
      "Train Epoch: 0 [5250/6493 (81%)]\tLoss: 0.693147\n",
      "Train Epoch: 0 [5260/6493 (81%)]\tLoss: 0.693147\n",
      "Train Epoch: 0 [5270/6493 (81%)]\tLoss: 0.693147\n",
      "Train Epoch: 0 [5280/6493 (81%)]\tLoss: 0.693147\n"
     ]
    },
    {
     "ename": "KeyboardInterrupt",
     "evalue": "",
     "output_type": "error",
     "traceback": [
      "\u001b[1;31m---------------------------------------------------------------------------\u001b[0m",
      "\u001b[1;31mKeyboardInterrupt\u001b[0m                         Traceback (most recent call last)",
      "Cell \u001b[1;32mIn[3], line 60\u001b[0m\n\u001b[0;32m     57\u001b[0m start_accuracy \u001b[38;5;241m=\u001b[39m our_model\u001b[38;5;241m.\u001b[39mtest()\n\u001b[0;32m     58\u001b[0m \u001b[38;5;28mprint\u001b[39m(\u001b[38;5;124m\"\u001b[39m\u001b[38;5;124mStarting accuracy = \u001b[39m\u001b[38;5;124m\"\u001b[39m, start_accuracy)\n\u001b[1;32m---> 60\u001b[0m \u001b[43mour_model\u001b[49m\u001b[38;5;241;43m.\u001b[39;49m\u001b[43mtrain\u001b[49m\u001b[43m(\u001b[49m\u001b[43m)\u001b[49m\n\u001b[0;32m     61\u001b[0m \u001b[38;5;66;03m# our_model.paper_train()\u001b[39;00m\n\u001b[0;32m     63\u001b[0m end_accuracy \u001b[38;5;241m=\u001b[39m our_model\u001b[38;5;241m.\u001b[39mtest()\n",
      "Cell \u001b[1;32mIn[2], line 107\u001b[0m, in \u001b[0;36mReweighting.train\u001b[1;34m(self)\u001b[0m\n\u001b[0;32m    105\u001b[0m \u001b[38;5;28mself\u001b[39m\u001b[38;5;241m.\u001b[39mnetwork\u001b[38;5;241m.\u001b[39mtrain()\n\u001b[0;32m    106\u001b[0m \u001b[38;5;28;01mfor\u001b[39;00m batch_idx, (data, target) \u001b[38;5;129;01min\u001b[39;00m \u001b[38;5;28menumerate\u001b[39m(\u001b[38;5;28mself\u001b[39m\u001b[38;5;241m.\u001b[39mtrain_loader):\n\u001b[1;32m--> 107\u001b[0m     data \u001b[38;5;241m=\u001b[39m \u001b[43mdata\u001b[49m\u001b[38;5;241;43m.\u001b[39;49m\u001b[43mto\u001b[49m\u001b[43m(\u001b[49m\u001b[43mdevice\u001b[49m\u001b[43m)\u001b[49m\n\u001b[0;32m    108\u001b[0m     target \u001b[38;5;241m=\u001b[39m target\u001b[38;5;241m.\u001b[39mto(device)\n\u001b[0;32m    110\u001b[0m     \u001b[38;5;28mself\u001b[39m\u001b[38;5;241m.\u001b[39moptimizer\u001b[38;5;241m.\u001b[39mzero_grad()\n",
      "\u001b[1;31mKeyboardInterrupt\u001b[0m: "
     ]
    }
   ],
   "source": [
    "# train_folder = '../dataset-ninja/train_unbiased'\n",
    "# test_folder = '../dataset-ninja/test_unbiased'\n",
    "# validate_folder = '../dataset-ninja/validate_unbiased'\n",
    "train_folder = '../dataset-ninja/train_binary'\n",
    "test_folder = '../dataset-ninja/test_binary'\n",
    "validate_folder = '../dataset-ninja/validate_binary'\n",
    "\n",
    "class_weights = [0.987, 0.013]  # Example weights for each class\n",
    "\n",
    "transform = transforms.Compose([\n",
    "    transforms.ToTensor(),  # Convert images to PyTorch tensors\n",
    "    transforms.Normalize(mean=[107.96332894557823, 108.8669668707483, 116.74490789115646], std=[55.43744379373414, 59.496382526025215, 62.06132599239535]),  # Normalize images\n",
    "])\n",
    "# transform = transforms.Compose([\n",
    "#     transforms.ToTensor(),  # Convert images to PyTorch tensors\n",
    "# ])\n",
    "\n",
    "train_dataset = datasets.ImageFolder(train_folder, transform=transform)\n",
    "weights = [class_weights[label] for label in train_dataset.targets]\n",
    "train_sampler = WeightedRandomSampler(weights, len(weights), replacement=True)\n",
    "\n",
    "test_dataset = datasets.ImageFolder(test_folder, transform=transform)\n",
    "\n",
    "validate_dataset = datasets.ImageFolder(validate_folder, transform=transform)\n",
    "\n",
    "\n",
    "# number of epoch and log interval reduced for testing\n",
    "hyperparameters = {\n",
    "    'n_epochs' : 10000,\n",
    "    'batch_size' : 2,\n",
    "    'learning_rate' : 1e-3,\n",
    "    'momentum' : 0.5,\n",
    "    'log_interval' : 5\n",
    "}\n",
    "\n",
    "# network = AlexNet()\n",
    "# network = LeNet()\n",
    "network = JustinNet()\n",
    "\n",
    "# criterion = nn.CrossEntropyLoss(reduction='none')\n",
    "# criterion_mean = nn.CrossEntropyLoss(reduction='mean')\n",
    "criterion = nn.BCEWithLogitsLoss(reduction='none')\n",
    "criterion_mean = nn.BCEWithLogitsLoss(reduction='mean')\n",
    "\n",
    "optimizer = optim.SGD(network.params(),\n",
    "                        lr=hyperparameters['learning_rate'],\n",
    "                        momentum=hyperparameters['momentum'])\n",
    "\n",
    "# Create DataLoaders\n",
    "# train_loader = DataLoader(train_dataset, batch_size=hyperparameters['batch_size'], sampler=train_sampler)\n",
    "train_loader = DataLoader(train_dataset, batch_size=hyperparameters['batch_size'], shuffle=True)\n",
    "test_loader = DataLoader(test_dataset, batch_size=100, shuffle=True)\n",
    "valid_loader = DataLoader(validate_dataset, batch_size=100, shuffle=True)\n",
    "\n",
    "our_model = Reweighting(network, hyperparameters, criterion, criterion_mean, optimizer, train_loader, valid_loader, test_loader)\n",
    "\n",
    "start_accuracy = our_model.test()\n",
    "print(\"Starting accuracy = \", start_accuracy)\n",
    "\n",
    "our_model.train()\n",
    "# our_model.paper_train()\n",
    "\n",
    "end_accuracy = our_model.test()\n",
    "print(\"Ending accuracy = \", end_accuracy)\n",
    "\n"
   ]
  },
  {
   "cell_type": "code",
   "execution_count": 44,
   "metadata": {},
   "outputs": [
    {
     "data": {
      "image/png": "[encoded data removed]",
      "text/plain": [
       "<Figure size 640x480 with 1 Axes>"
      ]
     },
     "metadata": {},
     "output_type": "display_data"
    }
   ],
   "source": [
    "def show_images(dataloader, num_images):\n",
    "    for batch_idx, (data, target) in enumerate(dataloader):\n",
    "        for i in range(len(data)):\n",
    "            plt.imshow(data[i][2,:,:].squeeze(), cmap='gray')\n",
    "            plt.title(f\"Label: {target[i]}\")\n",
    "            plt.axis('off')\n",
    "            plt.show()\n",
    "\n",
    "            num_images -= 1\n",
    "            if num_images == 0:\n",
    "                return\n",
    "\n",
    "show_images(valid_loader, 1)"
   ]
  },
  {
   "cell_type": "code",
   "execution_count": 54,
   "metadata": {},
   "outputs": [
    {
     "name": "stdout",
     "output_type": "stream",
     "text": [
      "[1 1 1 1 1 1 1 1 1 1 1 1 1 1 1 1 1 1 1 1 1 1 1 1 1 1 1 1 1 1 1 1 1 1 1 1 1\n",
      " 1 1 1 1 1 1 1 1 1 1 1 1 1 1 1 1 1 1 1 1 1 1 1 1 1 1 1 1 1 1 1 1 1 1 1 1 1\n",
      " 1 1 1 1 1 1 1 1 1 1 1 1 1 1 1 1 1 1 1 1 1 1 1 1 1 1]\n",
      "[1 1 1 1 1 1 1 1 1 1 1 1 1 1 1 1 1 1 1 1 1 1 1 1 1 1 1 1 1 1 1 1 1 1 1 1 1\n",
      " 1 1 1 1 1 1 1 1 1 1 1 1 1 1 1 1 1 1 1 1 1 1 1 1 1 1 1 1 1 1 1 1 1 1 1 1 1\n",
      " 1 1 1 1 1 1 1 1 1 1 1 1 1 1 1 1 1 1 1 1 1 1 1 1 1 1]\n",
      "Ending accuracy =  50.0\n"
     ]
    }
   ],
   "source": [
    "end_accuracy = our_model.test()\n",
    "print(\"Ending accuracy = \", end_accuracy)"
   ]
  },
  {
   "cell_type": "code",
   "execution_count": 7,
   "metadata": {},
   "outputs": [
    {
     "name": "stderr",
     "output_type": "stream",
     "text": [
      "1it [00:01,  1.42s/it]"
     ]
    },
    {
     "name": "stdout",
     "output_type": "stream",
     "text": [
      "[2 2 2 ... 2 2 2]\n",
      "tensor([7, 2, 2,  ..., 2, 2, 7])\n"
     ]
    },
    {
     "name": "stderr",
     "output_type": "stream",
     "text": [
      "2it [00:02,  1.32s/it]"
     ]
    },
    {
     "name": "stdout",
     "output_type": "stream",
     "text": [
      "[2 2 2 ... 2 2 2]\n",
      "tensor([7, 2, 2,  ..., 7, 7, 2])\n"
     ]
    },
    {
     "name": "stderr",
     "output_type": "stream",
     "text": [
      "3it [00:03,  1.27s/it]"
     ]
    },
    {
     "name": "stdout",
     "output_type": "stream",
     "text": [
      "[2 2 2 ... 2 2 2]\n",
      "tensor([2, 2, 7,  ..., 2, 2, 1])\n"
     ]
    },
    {
     "name": "stderr",
     "output_type": "stream",
     "text": [
      "4it [00:05,  1.23s/it]"
     ]
    },
    {
     "name": "stdout",
     "output_type": "stream",
     "text": [
      "[2 2 2 ... 2 2 2]\n",
      "tensor([6, 2, 2,  ..., 2, 7, 7])\n"
     ]
    },
    {
     "name": "stderr",
     "output_type": "stream",
     "text": [
      "5it [00:06,  1.24s/it]"
     ]
    },
    {
     "name": "stdout",
     "output_type": "stream",
     "text": [
      "[2 2 2 ... 2 2 2]\n",
      "tensor([7, 2, 7,  ..., 4, 7, 2])\n"
     ]
    },
    {
     "name": "stderr",
     "output_type": "stream",
     "text": [
      "6it [00:07,  1.21s/it]"
     ]
    },
    {
     "name": "stdout",
     "output_type": "stream",
     "text": [
      "[2 2 2 ... 2 2 2]\n",
      "tensor([2, 2, 2,  ..., 2, 2, 2])\n"
     ]
    },
    {
     "name": "stderr",
     "output_type": "stream",
     "text": [
      "7it [00:08,  1.20s/it]"
     ]
    },
    {
     "name": "stdout",
     "output_type": "stream",
     "text": [
      "[2 2 2 ... 2 2 2]\n",
      "tensor([7, 2, 4,  ..., 2, 7, 4])\n"
     ]
    },
    {
     "name": "stderr",
     "output_type": "stream",
     "text": [
      "8it [00:09,  1.18s/it]"
     ]
    },
    {
     "name": "stdout",
     "output_type": "stream",
     "text": [
      "[2 2 2 ... 2 2 2]\n",
      "tensor([7, 2, 2,  ..., 6, 2, 2])\n"
     ]
    },
    {
     "name": "stderr",
     "output_type": "stream",
     "text": [
      "9it [00:10,  1.18s/it]"
     ]
    },
    {
     "name": "stdout",
     "output_type": "stream",
     "text": [
      "[2 2 2 ... 2 2 2]\n",
      "tensor([7, 2, 2,  ..., 7, 2, 2])\n"
     ]
    },
    {
     "name": "stderr",
     "output_type": "stream",
     "text": [
      "10it [00:12,  1.17s/it]"
     ]
    },
    {
     "name": "stdout",
     "output_type": "stream",
     "text": [
      "[2 2 2 ... 2 2 2]\n",
      "tensor([7, 2, 2,  ..., 2, 2, 0])\n"
     ]
    },
    {
     "name": "stderr",
     "output_type": "stream",
     "text": [
      "11it [00:13,  1.17s/it]"
     ]
    },
    {
     "name": "stdout",
     "output_type": "stream",
     "text": [
      "[2 2 2 ... 2 2 2]\n",
      "tensor([2, 2, 2,  ..., 2, 2, 2])\n"
     ]
    },
    {
     "name": "stderr",
     "output_type": "stream",
     "text": [
      "12it [00:14,  1.17s/it]"
     ]
    },
    {
     "name": "stdout",
     "output_type": "stream",
     "text": [
      "[2 2 2 ... 2 2 2]\n",
      "tensor([4, 2, 2,  ..., 4, 2, 2])\n"
     ]
    },
    {
     "name": "stderr",
     "output_type": "stream",
     "text": [
      "13it [00:15,  1.19s/it]"
     ]
    },
    {
     "name": "stdout",
     "output_type": "stream",
     "text": [
      "[2 2 2 ... 2 2 2]\n",
      "tensor([2, 2, 2,  ..., 2, 2, 6])\n"
     ]
    },
    {
     "name": "stderr",
     "output_type": "stream",
     "text": [
      "14it [00:16,  1.18s/it]"
     ]
    },
    {
     "name": "stdout",
     "output_type": "stream",
     "text": [
      "[2 2 2 ... 2 2 2]\n",
      "tensor([2, 7, 7,  ..., 2, 2, 2])\n"
     ]
    },
    {
     "name": "stderr",
     "output_type": "stream",
     "text": [
      "15it [00:18,  1.19s/it]"
     ]
    },
    {
     "name": "stdout",
     "output_type": "stream",
     "text": [
      "[2 2 2 ... 2 2 2]\n",
      "tensor([2, 2, 7,  ..., 2, 7, 2])\n"
     ]
    },
    {
     "name": "stderr",
     "output_type": "stream",
     "text": [
      "16it [00:19,  1.21s/it]"
     ]
    },
    {
     "name": "stdout",
     "output_type": "stream",
     "text": [
      "[2 2 2 ... 2 2 2]\n",
      "tensor([2, 2, 4,  ..., 4, 2, 2])\n"
     ]
    },
    {
     "name": "stderr",
     "output_type": "stream",
     "text": [
      "17it [00:20,  1.23s/it]"
     ]
    },
    {
     "name": "stdout",
     "output_type": "stream",
     "text": [
      "[2 2 2 ... 2 2 2]\n",
      "tensor([4, 7, 2,  ..., 6, 7, 2])\n"
     ]
    },
    {
     "name": "stderr",
     "output_type": "stream",
     "text": [
      "18it [00:21,  1.23s/it]"
     ]
    },
    {
     "name": "stdout",
     "output_type": "stream",
     "text": [
      "[2 2 2 ... 2 2 2]\n",
      "tensor([2, 6, 7,  ..., 2, 1, 2])\n"
     ]
    },
    {
     "name": "stderr",
     "output_type": "stream",
     "text": [
      "19it [00:22,  1.20s/it]"
     ]
    },
    {
     "name": "stdout",
     "output_type": "stream",
     "text": [
      "[2 2 2 ... 2 2 2]\n",
      "tensor([7, 2, 6,  ..., 2, 4, 7])\n"
     ]
    },
    {
     "name": "stderr",
     "output_type": "stream",
     "text": [
      "20it [00:24,  1.19s/it]"
     ]
    },
    {
     "name": "stdout",
     "output_type": "stream",
     "text": [
      "[2 2 2 ... 2 2 2]\n",
      "tensor([2, 2, 2,  ..., 7, 2, 7])\n"
     ]
    },
    {
     "name": "stderr",
     "output_type": "stream",
     "text": [
      "21it [00:25,  1.18s/it]"
     ]
    },
    {
     "name": "stdout",
     "output_type": "stream",
     "text": [
      "[2 2 2 ... 2 2 2]\n",
      "tensor([7, 6, 2,  ..., 2, 7, 2])\n"
     ]
    },
    {
     "name": "stderr",
     "output_type": "stream",
     "text": [
      "22it [00:26,  1.15s/it]"
     ]
    },
    {
     "name": "stdout",
     "output_type": "stream",
     "text": [
      "[2 2 2 ... 2 2 2]\n",
      "tensor([7, 2, 2,  ..., 2, 2, 2])\n"
     ]
    },
    {
     "name": "stderr",
     "output_type": "stream",
     "text": [
      "23it [00:27,  1.15s/it]"
     ]
    },
    {
     "name": "stdout",
     "output_type": "stream",
     "text": [
      "[2 2 2 ... 2 2 2]\n",
      "tensor([2, 2, 7,  ..., 6, 2, 4])\n"
     ]
    },
    {
     "name": "stderr",
     "output_type": "stream",
     "text": [
      "24it [00:27,  1.16s/it]"
     ]
    },
    {
     "name": "stdout",
     "output_type": "stream",
     "text": [
      "[2 2 2 2 2 2 2 2 2 2 2 2 2 2 2 2 2 2 2 2 2 2 2 2 2 2 2 2 2 2 2 2 2 2 2 2 2\n",
      " 2 2 2 2 2 2 2 2 2 2 2 2 2 2 2 2 2 2 2 2 2 2 2 2 2 2 2 2 2 2 2 2 2 2 2 2 2\n",
      " 2 2 2 2 2 2 2 2 2 2 2 2 2 2 2 2 2 2 2 2 2 2 2 2 2 2 2 2 2 2 2 2 2 2 2 2 2\n",
      " 2 2 2 2 2 2 2 2 2 2 2 2 2 2 2 2 2 2 2 2 2 2 2 2 2 2 2 2 2 2 2 2 2 2 2 2 2\n",
      " 2 2 2 2 2 2 2 2 2 2 2 2 2 2 2 2 2 2 2 2 2 2 2 2 2 2 2 2 2 2 2 2 2 2 2 2 2\n",
      " 2 2 2 2 2 2 2 2 2 2 2 2 2 2 2 2 2 2 2 2 2 2 2 2 2 2 2 2 2 2 2 2 2 2 2 2 2\n",
      " 2 2 2 2 2 2 2 2 2 2 2 2 2 2 2 2 2 2 2 2 2 2 2 2 2 2 2 2 2 2 2 2 2 2 2 2 2\n",
      " 2 2 2 2 2 2 2 2 2 2 2 2 2 2 2 2 2 2 2 2 2 2 2 2 2 2 2 2 2 2 2 2 2 2 2 2 2\n",
      " 2 2 2 2 2 2 2 2 2 2 2 2]\n",
      "tensor([2, 2, 2, 6, 7, 2, 7, 6, 2, 2, 2, 2, 7, 1, 7, 2, 4, 2, 2, 2, 7, 7, 2, 7,\n",
      "        2, 7, 7, 4, 2, 7, 2, 7, 2, 2, 2, 4, 7, 7, 2, 6, 6, 7, 2, 2, 7, 2, 2, 7,\n",
      "        6, 2, 2, 2, 7, 7, 7, 7, 7, 1, 6, 2, 2, 2, 2, 4, 2, 7, 2, 7, 7, 7, 2, 2,\n",
      "        2, 2, 1, 2, 2, 2, 2, 7, 2, 2, 6, 2, 2, 2, 2, 2, 7, 2, 7, 2, 2, 7, 2, 2,\n",
      "        2, 2, 2, 7, 2, 2, 2, 7, 4, 7, 2, 7, 2, 7, 7, 2, 2, 4, 2, 2, 2, 6, 7, 2,\n",
      "        2, 2, 2, 2, 7, 0, 2, 2, 2, 1, 2, 7, 2, 2, 2, 7, 2, 2, 7, 2, 7, 2, 2, 2,\n",
      "        7, 6, 4, 7, 7, 2, 2, 2, 4, 2, 4, 0, 7, 6, 2, 2, 7, 2, 7, 6, 2, 2, 2, 2,\n",
      "        2, 6, 7, 2, 7, 2, 2, 2, 2, 7, 2, 7, 7, 4, 7, 2, 7, 7, 2, 2, 7, 7, 2, 1,\n",
      "        1, 7, 4, 7, 4, 4, 6, 2, 2, 6, 2, 2, 2, 2, 2, 2, 2, 2, 3, 2, 2, 2, 2, 2,\n",
      "        7, 4, 7, 2, 7, 6, 2, 2, 7, 2, 2, 7, 2, 3, 1, 2, 7, 2, 2, 7, 4, 2, 4, 2,\n",
      "        7, 2, 2, 2, 7, 4, 7, 2, 4, 7, 2, 2, 2, 2, 2, 7, 4, 2, 7, 2, 7, 7, 2, 4,\n",
      "        2, 7, 2, 2, 2, 2, 7, 2, 2, 7, 7, 2, 2, 2, 2, 4, 0, 2, 3, 2, 2, 2, 2, 2,\n",
      "        2, 7, 2, 2, 4, 2, 1, 7, 4, 7, 2, 2, 2, 6, 2, 7, 7, 7, 2, 2])\n",
      "Ending accuracy =  56.89\n"
     ]
    },
    {
     "name": "stderr",
     "output_type": "stream",
     "text": [
      "\n"
     ]
    }
   ],
   "source": [
    "our_model.network.eval()\n",
    "\n",
    "acc = []\n",
    "for itr,(test_img, test_label) in tqdm(enumerate(our_model.test_loader)):\n",
    "    prediction = our_model.network(test_img.to(device)).detach().cpu().numpy()\n",
    "    # print(prediction)\n",
    "    prediction = np.argmax(prediction, axis=1)\n",
    "    tmp = (prediction == test_label.detach().numpy())\n",
    "    print(prediction)\n",
    "    print(test_label)\n",
    "    acc.append(tmp)\n",
    "\n",
    "accuracy = np.concatenate(acc).mean()\n",
    "end_accuracy = np.round(accuracy*100,2)\n",
    "\n",
    "print(\"Ending accuracy = \", end_accuracy)"
   ]
  },
  {
   "cell_type": "code",
   "execution_count": null,
   "metadata": {},
   "outputs": [],
   "source": []
  },
  {
   "cell_type": "code",
   "execution_count": null,
   "metadata": {},
   "outputs": [],
   "source": []
  }
 ],
 "metadata": {
  "kernelspec": {
   "display_name": "ECE50024",
   "language": "python",
   "name": "python3"
  },
  "language_info": {
   "codemirror_mode": {
    "name": "ipython",
    "version": 3
   },
   "file_extension": ".py",
   "mimetype": "text/x-python",
   "name": "python",
   "nbconvert_exporter": "python",
   "pygments_lexer": "ipython3",
   "version": "3.11.8"
  }
 },
 "nbformat": 4,
 "nbformat_minor": 2
}
